{
 "cells": [
  {
   "cell_type": "markdown",
   "metadata": {},
   "source": [
    "## 0. setting"
   ]
  },
  {
   "cell_type": "code",
   "execution_count": 1,
   "metadata": {},
   "outputs": [
    {
     "name": "stderr",
     "output_type": "stream",
     "text": [
      "/opt/conda/lib/python3.10/site-packages/tqdm/auto.py:21: TqdmWarning: IProgress not found. Please update jupyter and ipywidgets. See https://ipywidgets.readthedocs.io/en/stable/user_install.html\n",
      "  from .autonotebook import tqdm as notebook_tqdm\n"
     ]
    }
   ],
   "source": [
    "import json\n",
    "import pandas as pd\n",
    "from rank_bm25 import BM25Okapi\n",
    "from datasets import load_from_disk"
   ]
  },
  {
   "cell_type": "code",
   "execution_count": 2,
   "metadata": {},
   "outputs": [],
   "source": [
    "with open('../data/wikipedia_documents.json', 'r', encoding='utf-8') as f:\n",
    "    wiki_data = json.load(f)\n",
    "\n",
    "documents = [v['text'] for v in wiki_data.values()]"
   ]
  },
  {
   "cell_type": "code",
   "execution_count": null,
   "metadata": {},
   "outputs": [],
   "source": [
    "documents"
   ]
  },
  {
   "cell_type": "code",
   "execution_count": 3,
   "metadata": {},
   "outputs": [],
   "source": [
    "train_dataset = load_from_disk('../data/train_dataset')\n",
    "train_split = train_dataset['train']\n",
    "\n",
    "queries = [train_split[i]['question'] for i in range(len(train_split))]\n",
    "correct_doc_ids = [train_split[i]['document_id'] for i in range(len(train_split))]\n",
    "\n",
    "total_queries = 3952"
   ]
  },
  {
   "cell_type": "code",
   "execution_count": 4,
   "metadata": {},
   "outputs": [],
   "source": [
    "topk = 20"
   ]
  },
  {
   "cell_type": "markdown",
   "metadata": {},
   "source": [
    "## 1. experiment"
   ]
  },
  {
   "cell_type": "markdown",
   "metadata": {},
   "source": [
    "#### (1) Base\n",
    "- 공백 토크나이징\n",
    "- 전처리 없음"
   ]
  },
  {
   "cell_type": "code",
   "execution_count": 5,
   "metadata": {},
   "outputs": [],
   "source": [
    "def tokenize1(text):\n",
    "    return text.split(' ')\n",
    "\n",
    "tokenized_corpus_1 = [tokenize1(doc) for doc in documents]\n",
    "bm25_1 = BM25Okapi(tokenized_corpus_1)"
   ]
  },
  {
   "cell_type": "code",
   "execution_count": 6,
   "metadata": {},
   "outputs": [],
   "source": [
    "results1 = []\n",
    "\n",
    "for i, query in enumerate(queries):\n",
    "    tokenized_query = tokenize1(query)\n",
    "    \n",
    "    doc_scores = bm25_1.get_scores(tokenized_query)\n",
    "    top_n_indices = doc_scores.argsort()[::-1][:topk]\n",
    "    \n",
    "    correct_doc_id = correct_doc_ids[i]\n",
    "    rank = 21  \n",
    "    \n",
    "    for rank_idx, doc_index in enumerate(top_n_indices):\n",
    "        if doc_index == correct_doc_id:\n",
    "            rank = rank_idx + 1  \n",
    "            break\n",
    "    \n",
    "    results1.append({\n",
    "        'query_id': i,\n",
    "        'question': query,\n",
    "        'correct_document_id': correct_doc_id,\n",
    "        'rank': rank\n",
    "    })\n"
   ]
  },
  {
   "cell_type": "code",
   "execution_count": 7,
   "metadata": {},
   "outputs": [
    {
     "ename": "OSError",
     "evalue": "Cannot save file into a non-existent directory: 'exp_result'",
     "output_type": "error",
     "traceback": [
      "\u001b[0;31m---------------------------------------------------------------------------\u001b[0m",
      "\u001b[0;31mOSError\u001b[0m                                   Traceback (most recent call last)",
      "Cell \u001b[0;32mIn[7], line 2\u001b[0m\n\u001b[1;32m      1\u001b[0m results1_df \u001b[38;5;241m=\u001b[39m pd\u001b[38;5;241m.\u001b[39mDataFrame(results1)\n\u001b[0;32m----> 2\u001b[0m \u001b[43mresults1_df\u001b[49m\u001b[38;5;241;43m.\u001b[39;49m\u001b[43mto_csv\u001b[49m\u001b[43m(\u001b[49m\u001b[38;5;124;43m'\u001b[39;49m\u001b[38;5;124;43m./exp_result/exp1.csv\u001b[39;49m\u001b[38;5;124;43m'\u001b[39;49m\u001b[43m,\u001b[49m\u001b[43m \u001b[49m\u001b[43mindex\u001b[49m\u001b[38;5;241;43m=\u001b[39;49m\u001b[38;5;28;43;01mFalse\u001b[39;49;00m\u001b[43m)\u001b[49m\n\u001b[1;32m      4\u001b[0m within_20 \u001b[38;5;241m=\u001b[39m \u001b[38;5;28msum\u001b[39m(results1_df[\u001b[38;5;124m'\u001b[39m\u001b[38;5;124mrank\u001b[39m\u001b[38;5;124m'\u001b[39m] \u001b[38;5;241m<\u001b[39m\u001b[38;5;241m=\u001b[39m \u001b[38;5;241m20\u001b[39m)\n\u001b[1;32m      5\u001b[0m within_10 \u001b[38;5;241m=\u001b[39m \u001b[38;5;28msum\u001b[39m(results1_df[\u001b[38;5;124m'\u001b[39m\u001b[38;5;124mrank\u001b[39m\u001b[38;5;124m'\u001b[39m] \u001b[38;5;241m<\u001b[39m\u001b[38;5;241m=\u001b[39m \u001b[38;5;241m10\u001b[39m)\n",
      "File \u001b[0;32m/opt/conda/lib/python3.10/site-packages/pandas/util/_decorators.py:333\u001b[0m, in \u001b[0;36mdeprecate_nonkeyword_arguments.<locals>.decorate.<locals>.wrapper\u001b[0;34m(*args, **kwargs)\u001b[0m\n\u001b[1;32m    327\u001b[0m \u001b[38;5;28;01mif\u001b[39;00m \u001b[38;5;28mlen\u001b[39m(args) \u001b[38;5;241m>\u001b[39m num_allow_args:\n\u001b[1;32m    328\u001b[0m     warnings\u001b[38;5;241m.\u001b[39mwarn(\n\u001b[1;32m    329\u001b[0m         msg\u001b[38;5;241m.\u001b[39mformat(arguments\u001b[38;5;241m=\u001b[39m_format_argument_list(allow_args)),\n\u001b[1;32m    330\u001b[0m         \u001b[38;5;167;01mFutureWarning\u001b[39;00m,\n\u001b[1;32m    331\u001b[0m         stacklevel\u001b[38;5;241m=\u001b[39mfind_stack_level(),\n\u001b[1;32m    332\u001b[0m     )\n\u001b[0;32m--> 333\u001b[0m \u001b[38;5;28;01mreturn\u001b[39;00m \u001b[43mfunc\u001b[49m\u001b[43m(\u001b[49m\u001b[38;5;241;43m*\u001b[39;49m\u001b[43margs\u001b[49m\u001b[43m,\u001b[49m\u001b[43m \u001b[49m\u001b[38;5;241;43m*\u001b[39;49m\u001b[38;5;241;43m*\u001b[39;49m\u001b[43mkwargs\u001b[49m\u001b[43m)\u001b[49m\n",
      "File \u001b[0;32m/opt/conda/lib/python3.10/site-packages/pandas/core/generic.py:3967\u001b[0m, in \u001b[0;36mNDFrame.to_csv\u001b[0;34m(self, path_or_buf, sep, na_rep, float_format, columns, header, index, index_label, mode, encoding, compression, quoting, quotechar, lineterminator, chunksize, date_format, doublequote, escapechar, decimal, errors, storage_options)\u001b[0m\n\u001b[1;32m   3956\u001b[0m df \u001b[38;5;241m=\u001b[39m \u001b[38;5;28mself\u001b[39m \u001b[38;5;28;01mif\u001b[39;00m \u001b[38;5;28misinstance\u001b[39m(\u001b[38;5;28mself\u001b[39m, ABCDataFrame) \u001b[38;5;28;01melse\u001b[39;00m \u001b[38;5;28mself\u001b[39m\u001b[38;5;241m.\u001b[39mto_frame()\n\u001b[1;32m   3958\u001b[0m formatter \u001b[38;5;241m=\u001b[39m DataFrameFormatter(\n\u001b[1;32m   3959\u001b[0m     frame\u001b[38;5;241m=\u001b[39mdf,\n\u001b[1;32m   3960\u001b[0m     header\u001b[38;5;241m=\u001b[39mheader,\n\u001b[0;32m   (...)\u001b[0m\n\u001b[1;32m   3964\u001b[0m     decimal\u001b[38;5;241m=\u001b[39mdecimal,\n\u001b[1;32m   3965\u001b[0m )\n\u001b[0;32m-> 3967\u001b[0m \u001b[38;5;28;01mreturn\u001b[39;00m \u001b[43mDataFrameRenderer\u001b[49m\u001b[43m(\u001b[49m\u001b[43mformatter\u001b[49m\u001b[43m)\u001b[49m\u001b[38;5;241;43m.\u001b[39;49m\u001b[43mto_csv\u001b[49m\u001b[43m(\u001b[49m\n\u001b[1;32m   3968\u001b[0m \u001b[43m    \u001b[49m\u001b[43mpath_or_buf\u001b[49m\u001b[43m,\u001b[49m\n\u001b[1;32m   3969\u001b[0m \u001b[43m    \u001b[49m\u001b[43mlineterminator\u001b[49m\u001b[38;5;241;43m=\u001b[39;49m\u001b[43mlineterminator\u001b[49m\u001b[43m,\u001b[49m\n\u001b[1;32m   3970\u001b[0m \u001b[43m    \u001b[49m\u001b[43msep\u001b[49m\u001b[38;5;241;43m=\u001b[39;49m\u001b[43msep\u001b[49m\u001b[43m,\u001b[49m\n\u001b[1;32m   3971\u001b[0m \u001b[43m    \u001b[49m\u001b[43mencoding\u001b[49m\u001b[38;5;241;43m=\u001b[39;49m\u001b[43mencoding\u001b[49m\u001b[43m,\u001b[49m\n\u001b[1;32m   3972\u001b[0m \u001b[43m    \u001b[49m\u001b[43merrors\u001b[49m\u001b[38;5;241;43m=\u001b[39;49m\u001b[43merrors\u001b[49m\u001b[43m,\u001b[49m\n\u001b[1;32m   3973\u001b[0m \u001b[43m    \u001b[49m\u001b[43mcompression\u001b[49m\u001b[38;5;241;43m=\u001b[39;49m\u001b[43mcompression\u001b[49m\u001b[43m,\u001b[49m\n\u001b[1;32m   3974\u001b[0m \u001b[43m    \u001b[49m\u001b[43mquoting\u001b[49m\u001b[38;5;241;43m=\u001b[39;49m\u001b[43mquoting\u001b[49m\u001b[43m,\u001b[49m\n\u001b[1;32m   3975\u001b[0m \u001b[43m    \u001b[49m\u001b[43mcolumns\u001b[49m\u001b[38;5;241;43m=\u001b[39;49m\u001b[43mcolumns\u001b[49m\u001b[43m,\u001b[49m\n\u001b[1;32m   3976\u001b[0m \u001b[43m    \u001b[49m\u001b[43mindex_label\u001b[49m\u001b[38;5;241;43m=\u001b[39;49m\u001b[43mindex_label\u001b[49m\u001b[43m,\u001b[49m\n\u001b[1;32m   3977\u001b[0m \u001b[43m    \u001b[49m\u001b[43mmode\u001b[49m\u001b[38;5;241;43m=\u001b[39;49m\u001b[43mmode\u001b[49m\u001b[43m,\u001b[49m\n\u001b[1;32m   3978\u001b[0m \u001b[43m    \u001b[49m\u001b[43mchunksize\u001b[49m\u001b[38;5;241;43m=\u001b[39;49m\u001b[43mchunksize\u001b[49m\u001b[43m,\u001b[49m\n\u001b[1;32m   3979\u001b[0m \u001b[43m    \u001b[49m\u001b[43mquotechar\u001b[49m\u001b[38;5;241;43m=\u001b[39;49m\u001b[43mquotechar\u001b[49m\u001b[43m,\u001b[49m\n\u001b[1;32m   3980\u001b[0m \u001b[43m    \u001b[49m\u001b[43mdate_format\u001b[49m\u001b[38;5;241;43m=\u001b[39;49m\u001b[43mdate_format\u001b[49m\u001b[43m,\u001b[49m\n\u001b[1;32m   3981\u001b[0m \u001b[43m    \u001b[49m\u001b[43mdoublequote\u001b[49m\u001b[38;5;241;43m=\u001b[39;49m\u001b[43mdoublequote\u001b[49m\u001b[43m,\u001b[49m\n\u001b[1;32m   3982\u001b[0m \u001b[43m    \u001b[49m\u001b[43mescapechar\u001b[49m\u001b[38;5;241;43m=\u001b[39;49m\u001b[43mescapechar\u001b[49m\u001b[43m,\u001b[49m\n\u001b[1;32m   3983\u001b[0m \u001b[43m    \u001b[49m\u001b[43mstorage_options\u001b[49m\u001b[38;5;241;43m=\u001b[39;49m\u001b[43mstorage_options\u001b[49m\u001b[43m,\u001b[49m\n\u001b[1;32m   3984\u001b[0m \u001b[43m\u001b[49m\u001b[43m)\u001b[49m\n",
      "File \u001b[0;32m/opt/conda/lib/python3.10/site-packages/pandas/io/formats/format.py:1014\u001b[0m, in \u001b[0;36mDataFrameRenderer.to_csv\u001b[0;34m(self, path_or_buf, encoding, sep, columns, index_label, mode, compression, quoting, quotechar, lineterminator, chunksize, date_format, doublequote, escapechar, errors, storage_options)\u001b[0m\n\u001b[1;32m    993\u001b[0m     created_buffer \u001b[38;5;241m=\u001b[39m \u001b[38;5;28;01mFalse\u001b[39;00m\n\u001b[1;32m    995\u001b[0m csv_formatter \u001b[38;5;241m=\u001b[39m CSVFormatter(\n\u001b[1;32m    996\u001b[0m     path_or_buf\u001b[38;5;241m=\u001b[39mpath_or_buf,\n\u001b[1;32m    997\u001b[0m     lineterminator\u001b[38;5;241m=\u001b[39mlineterminator,\n\u001b[0;32m   (...)\u001b[0m\n\u001b[1;32m   1012\u001b[0m     formatter\u001b[38;5;241m=\u001b[39m\u001b[38;5;28mself\u001b[39m\u001b[38;5;241m.\u001b[39mfmt,\n\u001b[1;32m   1013\u001b[0m )\n\u001b[0;32m-> 1014\u001b[0m \u001b[43mcsv_formatter\u001b[49m\u001b[38;5;241;43m.\u001b[39;49m\u001b[43msave\u001b[49m\u001b[43m(\u001b[49m\u001b[43m)\u001b[49m\n\u001b[1;32m   1016\u001b[0m \u001b[38;5;28;01mif\u001b[39;00m created_buffer:\n\u001b[1;32m   1017\u001b[0m     \u001b[38;5;28;01massert\u001b[39;00m \u001b[38;5;28misinstance\u001b[39m(path_or_buf, StringIO)\n",
      "File \u001b[0;32m/opt/conda/lib/python3.10/site-packages/pandas/io/formats/csvs.py:251\u001b[0m, in \u001b[0;36mCSVFormatter.save\u001b[0;34m(self)\u001b[0m\n\u001b[1;32m    247\u001b[0m \u001b[38;5;250m\u001b[39m\u001b[38;5;124;03m\"\"\"\u001b[39;00m\n\u001b[1;32m    248\u001b[0m \u001b[38;5;124;03mCreate the writer & save.\u001b[39;00m\n\u001b[1;32m    249\u001b[0m \u001b[38;5;124;03m\"\"\"\u001b[39;00m\n\u001b[1;32m    250\u001b[0m \u001b[38;5;66;03m# apply compression and byte/text conversion\u001b[39;00m\n\u001b[0;32m--> 251\u001b[0m \u001b[38;5;28;01mwith\u001b[39;00m \u001b[43mget_handle\u001b[49m\u001b[43m(\u001b[49m\n\u001b[1;32m    252\u001b[0m \u001b[43m    \u001b[49m\u001b[38;5;28;43mself\u001b[39;49m\u001b[38;5;241;43m.\u001b[39;49m\u001b[43mfilepath_or_buffer\u001b[49m\u001b[43m,\u001b[49m\n\u001b[1;32m    253\u001b[0m \u001b[43m    \u001b[49m\u001b[38;5;28;43mself\u001b[39;49m\u001b[38;5;241;43m.\u001b[39;49m\u001b[43mmode\u001b[49m\u001b[43m,\u001b[49m\n\u001b[1;32m    254\u001b[0m \u001b[43m    \u001b[49m\u001b[43mencoding\u001b[49m\u001b[38;5;241;43m=\u001b[39;49m\u001b[38;5;28;43mself\u001b[39;49m\u001b[38;5;241;43m.\u001b[39;49m\u001b[43mencoding\u001b[49m\u001b[43m,\u001b[49m\n\u001b[1;32m    255\u001b[0m \u001b[43m    \u001b[49m\u001b[43merrors\u001b[49m\u001b[38;5;241;43m=\u001b[39;49m\u001b[38;5;28;43mself\u001b[39;49m\u001b[38;5;241;43m.\u001b[39;49m\u001b[43merrors\u001b[49m\u001b[43m,\u001b[49m\n\u001b[1;32m    256\u001b[0m \u001b[43m    \u001b[49m\u001b[43mcompression\u001b[49m\u001b[38;5;241;43m=\u001b[39;49m\u001b[38;5;28;43mself\u001b[39;49m\u001b[38;5;241;43m.\u001b[39;49m\u001b[43mcompression\u001b[49m\u001b[43m,\u001b[49m\n\u001b[1;32m    257\u001b[0m \u001b[43m    \u001b[49m\u001b[43mstorage_options\u001b[49m\u001b[38;5;241;43m=\u001b[39;49m\u001b[38;5;28;43mself\u001b[39;49m\u001b[38;5;241;43m.\u001b[39;49m\u001b[43mstorage_options\u001b[49m\u001b[43m,\u001b[49m\n\u001b[1;32m    258\u001b[0m \u001b[43m\u001b[49m\u001b[43m)\u001b[49m \u001b[38;5;28;01mas\u001b[39;00m handles:\n\u001b[1;32m    259\u001b[0m     \u001b[38;5;66;03m# Note: self.encoding is irrelevant here\u001b[39;00m\n\u001b[1;32m    260\u001b[0m     \u001b[38;5;28mself\u001b[39m\u001b[38;5;241m.\u001b[39mwriter \u001b[38;5;241m=\u001b[39m csvlib\u001b[38;5;241m.\u001b[39mwriter(\n\u001b[1;32m    261\u001b[0m         handles\u001b[38;5;241m.\u001b[39mhandle,\n\u001b[1;32m    262\u001b[0m         lineterminator\u001b[38;5;241m=\u001b[39m\u001b[38;5;28mself\u001b[39m\u001b[38;5;241m.\u001b[39mlineterminator,\n\u001b[0;32m   (...)\u001b[0m\n\u001b[1;32m    267\u001b[0m         quotechar\u001b[38;5;241m=\u001b[39m\u001b[38;5;28mself\u001b[39m\u001b[38;5;241m.\u001b[39mquotechar,\n\u001b[1;32m    268\u001b[0m     )\n\u001b[1;32m    270\u001b[0m     \u001b[38;5;28mself\u001b[39m\u001b[38;5;241m.\u001b[39m_save()\n",
      "File \u001b[0;32m/opt/conda/lib/python3.10/site-packages/pandas/io/common.py:749\u001b[0m, in \u001b[0;36mget_handle\u001b[0;34m(path_or_buf, mode, encoding, compression, memory_map, is_text, errors, storage_options)\u001b[0m\n\u001b[1;32m    747\u001b[0m \u001b[38;5;66;03m# Only for write methods\u001b[39;00m\n\u001b[1;32m    748\u001b[0m \u001b[38;5;28;01mif\u001b[39;00m \u001b[38;5;124m\"\u001b[39m\u001b[38;5;124mr\u001b[39m\u001b[38;5;124m\"\u001b[39m \u001b[38;5;129;01mnot\u001b[39;00m \u001b[38;5;129;01min\u001b[39;00m mode \u001b[38;5;129;01mand\u001b[39;00m is_path:\n\u001b[0;32m--> 749\u001b[0m     \u001b[43mcheck_parent_directory\u001b[49m\u001b[43m(\u001b[49m\u001b[38;5;28;43mstr\u001b[39;49m\u001b[43m(\u001b[49m\u001b[43mhandle\u001b[49m\u001b[43m)\u001b[49m\u001b[43m)\u001b[49m\n\u001b[1;32m    751\u001b[0m \u001b[38;5;28;01mif\u001b[39;00m compression:\n\u001b[1;32m    752\u001b[0m     \u001b[38;5;28;01mif\u001b[39;00m compression \u001b[38;5;241m!=\u001b[39m \u001b[38;5;124m\"\u001b[39m\u001b[38;5;124mzstd\u001b[39m\u001b[38;5;124m\"\u001b[39m:\n\u001b[1;32m    753\u001b[0m         \u001b[38;5;66;03m# compression libraries do not like an explicit text-mode\u001b[39;00m\n",
      "File \u001b[0;32m/opt/conda/lib/python3.10/site-packages/pandas/io/common.py:616\u001b[0m, in \u001b[0;36mcheck_parent_directory\u001b[0;34m(path)\u001b[0m\n\u001b[1;32m    614\u001b[0m parent \u001b[38;5;241m=\u001b[39m Path(path)\u001b[38;5;241m.\u001b[39mparent\n\u001b[1;32m    615\u001b[0m \u001b[38;5;28;01mif\u001b[39;00m \u001b[38;5;129;01mnot\u001b[39;00m parent\u001b[38;5;241m.\u001b[39mis_dir():\n\u001b[0;32m--> 616\u001b[0m     \u001b[38;5;28;01mraise\u001b[39;00m \u001b[38;5;167;01mOSError\u001b[39;00m(\u001b[38;5;124mrf\u001b[39m\u001b[38;5;124m\"\u001b[39m\u001b[38;5;124mCannot save file into a non-existent directory: \u001b[39m\u001b[38;5;124m'\u001b[39m\u001b[38;5;132;01m{\u001b[39;00mparent\u001b[38;5;132;01m}\u001b[39;00m\u001b[38;5;124m'\u001b[39m\u001b[38;5;124m\"\u001b[39m)\n",
      "\u001b[0;31mOSError\u001b[0m: Cannot save file into a non-existent directory: 'exp_result'"
     ]
    }
   ],
   "source": [
    "results1_df = pd.DataFrame(results1)\n",
    "results1_df.to_csv('./exp_result/exp1.csv', index=False)\n",
    "\n",
    "within_20 = sum(results1_df['rank'] <= 20)\n",
    "within_10 = sum(results1_df['rank'] <= 10)\n",
    "within_5 = sum(results1_df['rank'] <= 5)\n",
    "\n",
    "within_20_ratio = within_20 / total_queries * 100\n",
    "within_10_ratio = within_10 / total_queries * 100\n",
    "within_5_ratio = within_5 / total_queries * 100\n",
    "\n",
    "print(f\"Experiment 1 - Base':\")\n",
    "print(f\"topk = 20: {within_20}, {within_20_ratio:.2f}%\")\n",
    "print(f\"topk = 10: {within_10}, {within_10_ratio:.2f}%\")\n",
    "print(f\"topk =  5: {within_5}, {within_5_ratio:.2f}%\")"
   ]
  },
  {
   "cell_type": "markdown",
   "metadata": {},
   "source": [
    "#### (2) Remove '?'\n",
    "- 공백 토크나이징\n",
    "- question의 ? 만 제거"
   ]
  },
  {
   "cell_type": "code",
   "execution_count": 32,
   "metadata": {},
   "outputs": [],
   "source": [
    "questions_no_question_mark = [question.replace('?', '') for question in questions]\n",
    "\n",
    "def tokenize2(text):\n",
    "    return text.split(' ')\n",
    "\n",
    "tokenized_corpus_2 = [tokenize2(doc) for doc in documents]\n",
    "bm25_2 = BM25Okapi(tokenized_corpus_2)\n"
   ]
  },
  {
   "cell_type": "code",
   "execution_count": 33,
   "metadata": {},
   "outputs": [],
   "source": [
    "results2 = []\n",
    "\n",
    "for i, query in enumerate(queries):\n",
    "    tokenized_query = tokenize2(query)\n",
    "    \n",
    "    doc_scores = bm25_2.get_scores(tokenized_query)\n",
    "    top_n_indices = doc_scores.argsort()[::-1][:topk]\n",
    "    \n",
    "    correct_doc_id = correct_doc_ids[i]\n",
    "    rank = 21  \n",
    "    \n",
    "    for rank_idx, doc_index in enumerate(top_n_indices):\n",
    "        if doc_index == correct_doc_id:\n",
    "            rank = rank_idx + 1  \n",
    "            break\n",
    "    \n",
    "    results2.append({\n",
    "        'query_id': i,\n",
    "        'question': query,\n",
    "        'correct_document_id': correct_doc_id,\n",
    "        'rank': rank\n",
    "    })"
   ]
  },
  {
   "cell_type": "code",
   "execution_count": 34,
   "metadata": {},
   "outputs": [
    {
     "name": "stdout",
     "output_type": "stream",
     "text": [
      "Exp 2 - Remove '?':\n",
      "topk = 20: 2514, 63.61%\n",
      "topk = 10: 2341, 59.24%\n",
      "topk =  5: 2144, 54.25%\n"
     ]
    }
   ],
   "source": [
    "results2_df = pd.DataFrame(results2)\n",
    "results2_df.to_csv('./exp_result/exp2.csv', index=False)\n",
    "\n",
    "within_20_2 = sum(results2_df['rank'] <= 20)\n",
    "within_10_2 = sum(results2_df['rank'] <= 10)\n",
    "within_5_2 = sum(results2_df['rank'] <= 5)\n",
    "\n",
    "within_20_ratio_2 = within_20_2 / total_queries * 100\n",
    "within_10_ratio_2 = within_10_2 / total_queries * 100\n",
    "within_5_ratio_2 = within_5_2 / total_queries * 100\n",
    "\n",
    "print(f\"Exp 2 - Remove '?':\")\n",
    "print(f\"topk = 20: {within_20_2}, {within_20_ratio_2:.2f}%\")\n",
    "print(f\"topk = 10: {within_10_2}, {within_10_ratio_2:.2f}%\")\n",
    "print(f\"topk =  5: {within_5_2}, {within_5_ratio_2:.2f}%\")"
   ]
  },
  {
   "cell_type": "markdown",
   "metadata": {},
   "source": [
    "#### (3) Okt tokenizer\n",
    "- okt tokenizer 사용"
   ]
  },
  {
   "cell_type": "code",
   "execution_count": 35,
   "metadata": {},
   "outputs": [],
   "source": [
    "from konlpy.tag import Okt\n",
    "\n",
    "okt = Okt()\n",
    "def tokenize3(text):\n",
    "    return okt.morphs(text)\n",
    "\n",
    "tokenized_corpus_3 = [tokenize3(doc) for doc in documents]\n",
    "bm25_3 = BM25Okapi(tokenized_corpus_3)"
   ]
  },
  {
   "cell_type": "code",
   "execution_count": 36,
   "metadata": {},
   "outputs": [],
   "source": [
    "results3 = []\n",
    "\n",
    "for i, query in enumerate(queries):\n",
    "    tokenized_query = tokenize3(query)\n",
    "    doc_scores = bm25_3.get_scores(tokenized_query)\n",
    "    top_n_indices = doc_scores.argsort()[::-1][:topk]\n",
    "    \n",
    "    correct_doc_id = correct_doc_ids[i]\n",
    "    rank = 21  \n",
    "    \n",
    "    for rank_idx, doc_index in enumerate(top_n_indices):\n",
    "        if doc_index == correct_doc_id:\n",
    "            rank = rank_idx + 1  \n",
    "            break\n",
    "    \n",
    "    results3.append({\n",
    "        'query_id': i,\n",
    "        'question': query,\n",
    "        'correct_document_id': correct_doc_id,\n",
    "        'rank': rank\n",
    "    })"
   ]
  },
  {
   "cell_type": "code",
   "execution_count": 37,
   "metadata": {},
   "outputs": [
    {
     "name": "stdout",
     "output_type": "stream",
     "text": [
      "Experiment 3 - Okt Tokenizer:\n",
      "topk = 20: 3545, 89.70%\n",
      "topk = 10: 3418, 86.49%\n",
      "topk =  5: 3222, 81.53%\n"
     ]
    }
   ],
   "source": [
    "results3_df = pd.DataFrame(results3)\n",
    "results3_df.to_csv('./exp_result/exp3.csv', index=False)\n",
    "\n",
    "within_20_3 = sum(results3_df['rank'] <= 20)\n",
    "within_10_3 = sum(results3_df['rank'] <= 10)\n",
    "within_5_3 = sum(results3_df['rank'] <= 5)\n",
    "\n",
    "within_20_ratio_3 = within_20_3 / total_queries * 100\n",
    "within_10_ratio_3 = within_10_3 / total_queries * 100\n",
    "within_5_ratio_3 = within_5_3 / total_queries * 100\n",
    "\n",
    "print(f\"Experiment 3 - Okt Tokenizer:\")\n",
    "print(f\"topk = 20: {within_20_3}, {within_20_ratio_3:.2f}%\")\n",
    "print(f\"topk = 10: {within_10_3}, {within_10_ratio_3:.2f}%\")\n",
    "print(f\"topk =  5: {within_5_3}, {within_5_ratio_3:.2f}%\")"
   ]
  },
  {
   "cell_type": "markdown",
   "metadata": {},
   "source": [
    "#### (4) Okt tokentizer & Remove 'Josa'\n",
    "- okt tokenizer 사용\n",
    "- 형태소 분석기를 통한 조사 제거 전처리"
   ]
  },
  {
   "cell_type": "code",
   "execution_count": 38,
   "metadata": {},
   "outputs": [],
   "source": [
    "def remove_josa(tokens):\n",
    "    return [word for word, tag in okt.pos(' '.join(tokens)) if tag != 'Josa']\n",
    "\n",
    "tokenized_corpus_4 = [remove_josa(tokens) for tokens in tokenized_corpus_3]\n",
    "bm25_4 = BM25Okapi(tokenized_corpus_4)"
   ]
  },
  {
   "cell_type": "code",
   "execution_count": 40,
   "metadata": {},
   "outputs": [],
   "source": [
    "results4 = []\n",
    "\n",
    "for i, query in enumerate(queries):\n",
    "    tokenized_query = remove_josa(tokenize3(query))  \n",
    "    doc_scores = bm25_4.get_scores(tokenized_query)\n",
    "    top_n_indices = doc_scores.argsort()[::-1][:topk]\n",
    "    \n",
    "    correct_doc_id = correct_doc_ids[i]\n",
    "    rank = 21  \n",
    "    \n",
    "    for rank_idx, doc_index in enumerate(top_n_indices):\n",
    "        if doc_index == correct_doc_id:\n",
    "            rank = rank_idx + 1 \n",
    "            break\n",
    "    \n",
    "    results4.append({\n",
    "        'query_id': i,\n",
    "        'question': query,\n",
    "        'correct_document_id': correct_doc_id,\n",
    "        'rank': rank\n",
    "    })"
   ]
  },
  {
   "cell_type": "code",
   "execution_count": 41,
   "metadata": {},
   "outputs": [
    {
     "name": "stdout",
     "output_type": "stream",
     "text": [
      "Experiment 4 - Okt Tokenizer + remove 'Josa':\n",
      "topk = 20: 3570, 90.33%\n",
      "topk = 10: 3434, 86.89%\n",
      "topk =  5: 3248, 82.19%\n"
     ]
    }
   ],
   "source": [
    "results4_df = pd.DataFrame(results4)\n",
    "results4_df.to_csv('./exp_result/exp4.csv', index=False)\n",
    "\n",
    "within_20_4 = sum(results4_df['rank'] <= 20)\n",
    "within_10_4 = sum(results4_df['rank'] <= 10)\n",
    "within_5_4 = sum(results4_df['rank'] <= 5)\n",
    "\n",
    "within_20_ratio_4 = within_20_4 / total_queries * 100\n",
    "within_10_ratio_4 = within_10_4 / total_queries * 100\n",
    "within_5_ratio_4 = within_5_4 / total_queries * 100\n",
    "\n",
    "print(f\"Experiment 4 - Okt Tokenizer + remove 'Josa':\")\n",
    "print(f\"topk = 20: {within_20_4}, {within_20_ratio_4:.2f}%\")\n",
    "print(f\"topk = 10: {within_10_4}, {within_10_ratio_4:.2f}%\")\n",
    "print(f\"topk =  5: {within_5_4}, {within_5_ratio_4:.2f}%\")"
   ]
  },
  {
   "cell_type": "code",
   "execution_count": 42,
   "metadata": {},
   "outputs": [],
   "source": [
    "import pickle\n",
    "import json\n",
    "\n",
    "with open('./pickle/exp3.pkl', 'wb') as f:\n",
    "    pickle.dump(tokenized_corpus_3 , f)\n",
    "\n",
    "with open('./pickle/exp4.pkl', 'wb') as f:\n",
    "    pickle.dump(tokenized_corpus_4 , f)"
   ]
  },
  {
   "cell_type": "markdown",
   "metadata": {},
   "source": [
    "#### (5) Okt tokentizer & Remove 'Josa' simple\n",
    "- okt tokenizer 사용\n",
    "- 간단한 방식의 조사 제거 전처리"
   ]
  },
  {
   "cell_type": "code",
   "execution_count": 44,
   "metadata": {},
   "outputs": [],
   "source": [
    "with open('./pickle/exp3.pkl', 'rb') as f:\n",
    "    tokenized_corpus_3 = pickle.load(f)\n",
    "\n",
    "def remove_josa(tokens):\n",
    "    josa_tags = ['은', '는', '이', '가', '을', '를', '에', '의', '도']\n",
    "    return [token for token in tokens if token not in josa_tags]\n",
    "\n",
    "tokenized_corpus_5 = [remove_josa(tokens) for tokens in tokenized_corpus_3]\n",
    "bm25_5 = BM25Okapi(tokenized_corpus_5)"
   ]
  },
  {
   "cell_type": "code",
   "execution_count": 45,
   "metadata": {},
   "outputs": [],
   "source": [
    "results5 = []\n",
    "\n",
    "for i, query in enumerate(queries):\n",
    "    tokenized_query = remove_josa(tokenize3(query))  \n",
    "    doc_scores = bm25_5.get_scores(tokenized_query)\n",
    "    top_n_indices = doc_scores.argsort()[::-1][:topk]  \n",
    "\n",
    "    correct_doc_id = correct_doc_ids[i]  \n",
    "    rank = 21 \n",
    "    \n",
    "    for rank_idx, doc_index in enumerate(top_n_indices):\n",
    "        if doc_index == correct_doc_id:\n",
    "            rank = rank_idx + 1  \n",
    "            break\n",
    "    \n",
    "    results5.append({\n",
    "        'query_id': i,\n",
    "        'question': query,\n",
    "        'correct_document_id': correct_doc_id,\n",
    "        'rank': rank\n",
    "    })"
   ]
  },
  {
   "cell_type": "code",
   "execution_count": 47,
   "metadata": {},
   "outputs": [
    {
     "name": "stdout",
     "output_type": "stream",
     "text": [
      "Experiment 5 - Okt Tokenizer + remove 'Josa' simple:\n",
      "topk = 20: 3542, 89.63%\n",
      "topk = 10: 3408, 86.23%\n",
      "topk =  5: 3223, 81.55%\n"
     ]
    }
   ],
   "source": [
    "results5_df = pd.DataFrame(results_exp5)\n",
    "results5_df.to_csv('./exp_result/exp5.csv', index=False)\n",
    "\n",
    "within_20_5 = sum(results5_df['rank'] <= 20)\n",
    "within_10_5 = sum(results5_df['rank'] <= 10)\n",
    "within_5_5 = sum(results5_df['rank'] <= 5)\n",
    "\n",
    "within_20_ratio_5 = within_20_5 / total_queries * 100\n",
    "within_10_ratio_5 = within_10_5 / total_queries * 100\n",
    "within_5_ratio_5 = within_5_5 / total_queries * 100\n",
    "\n",
    "print(f\"Experiment 5 - Okt Tokenizer + remove 'Josa' simple:\")\n",
    "print(f\"topk = 20: {within_20_5}, {within_20_ratio_5:.2f}%\")\n",
    "print(f\"topk = 10: {within_10_5}, {within_10_ratio_5:.2f}%\")\n",
    "print(f\"topk =  5: {within_5_5}, {within_5_ratio_5:.2f}%\")"
   ]
  },
  {
   "cell_type": "markdown",
   "metadata": {},
   "source": [
    "#### (6) Char tokenizer & Trigram\n",
    "- character 단위 토크나이징\n",
    "- Trigram"
   ]
  },
  {
   "cell_type": "code",
   "execution_count": null,
   "metadata": {},
   "outputs": [],
   "source": [
    "from sklearn.feature_extraction.text import CountVectorizer\n",
    "\n",
    "def char_ngram_tokenize(text, n=3):\n",
    "    chars = list(text)\n",
    "    ngrams = [''.join(chars[i:i+n]) for i in range(len(chars)-n+1)]\n",
    "    return ngrams\n",
    "\n",
    "n = 3\n",
    "tokenized_corpus_6 = [char_ngram_tokenize(doc, n=n) for doc in documents]\n",
    "bm25_6 = BM25Okapi(tokenized_corpus_6)"
   ]
  },
  {
   "cell_type": "code",
   "execution_count": null,
   "metadata": {},
   "outputs": [],
   "source": [
    "results_exp6 = []\n",
    "\n",
    "for i, query in enumerate(queries):\n",
    "    tokenized_query = char_ngram_tokenize(query, n=n)\n",
    "    doc_scores = bm25_6.get_scores(tokenized_query)\n",
    "    top_n_indices = doc_scores.argsort()[::-1][:topk]  \n",
    "    \n",
    "    correct_doc_id = correct_doc_ids[i]  \n",
    "    rank = 21\n",
    "    \n",
    "    for rank_idx, doc_index in enumerate(top_n_indices):\n",
    "        if doc_index == correct_doc_id:\n",
    "            rank = rank_idx + 1  \n",
    "            break\n",
    "    \n",
    "    results_exp6.append({\n",
    "        'query_id': i,\n",
    "        'question': query,\n",
    "        'correct_document_id': correct_doc_id,\n",
    "        'rank': rank\n",
    "    })"
   ]
  },
  {
   "cell_type": "code",
   "execution_count": null,
   "metadata": {},
   "outputs": [],
   "source": [
    "results6_df = pd.DataFrame(results5)\n",
    "results6_df.to_csv('./exp_result/exp6.csv', index=False)\n",
    "\n",
    "within_20_6 = sum(results6_df['rank'] <= 20)\n",
    "within_10_6 = sum(results6_df['rank'] <= 10)\n",
    "within_5_6 = sum(results6_df['rank'] <= 5)\n",
    "\n",
    "within_20_ratio_6 = within_20_6 / total_queries * 100\n",
    "within_10_ratio_6 = within_10_6 / total_queries * 100\n",
    "within_5_ratio_6 = within_5_6 / total_queries * 100\n",
    "\n",
    "print(f\"Experiment 6 - char tokenizing & trigram:\")\n",
    "print(f\"topk = 20: {within_20_6}, {within_20_ratio_6:.2f}%\")\n",
    "print(f\"topk = 10: {within_10_6}, {within_10_ratio_6:.2f}%\")\n",
    "print(f\"topk =  5: {within_5_6}, {within_5_ratio_6:.2f}%\")"
   ]
  }
 ],
 "metadata": {
  "kernelspec": {
   "display_name": "base",
   "language": "python",
   "name": "python3"
  },
  "language_info": {
   "codemirror_mode": {
    "name": "ipython",
    "version": 3
   },
   "file_extension": ".py",
   "mimetype": "text/x-python",
   "name": "python",
   "nbconvert_exporter": "python",
   "pygments_lexer": "ipython3",
   "version": "3.10.13"
  }
 },
 "nbformat": 4,
 "nbformat_minor": 2
}

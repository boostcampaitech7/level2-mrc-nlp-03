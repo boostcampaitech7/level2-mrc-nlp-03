{
 "cells": [
  {
   "cell_type": "code",
   "execution_count": 87,
   "metadata": {},
   "outputs": [],
   "source": [
    "import json \n",
    "import pandas as pd\n",
    "import matplotlib.pyplot as plt\n",
    "import re"
   ]
  },
  {
   "cell_type": "code",
   "execution_count": 88,
   "metadata": {},
   "outputs": [
    {
     "name": "stdout",
     "output_type": "stream",
     "text": [
      "60613\n"
     ]
    }
   ],
   "source": [
    "#데이터 불러오기\n",
    "with open(\"../data/wikipedia_documents.json\") as json_file:\n",
    "    json_data = json.load(json_file)\n",
    "    \n",
    "df_wiki = pd.DataFrame(json_data)\n",
    "df_wiki = df_wiki.transpose()\n",
    "print(len(df_wiki))"
   ]
  },
  {
   "cell_type": "code",
   "execution_count": 89,
   "metadata": {},
   "outputs": [],
   "source": [
    "#겹치는 데이터 개수 \n",
    "all_duplicates = df_wiki[df_wiki.duplicated(subset=['text'], keep=False)]"
   ]
  },
  {
   "cell_type": "code",
   "execution_count": 90,
   "metadata": {},
   "outputs": [],
   "source": [
    "# 중복 데이터 삭제\n",
    "df = df_wiki.drop_duplicates(subset=['text'], keep='first').reset_index(drop=True)\n",
    "\n",
    "#df_duplicates = df[df.duplicated(subset=['text'], keep=False)]\n",
    "\n",
    "# 중복 제거 후 데이터 개수 : 56737"
   ]
  },
  {
   "cell_type": "code",
   "execution_count": 91,
   "metadata": {},
   "outputs": [],
   "source": [
    "df_drop = df.drop(['domain','author','html','url','document_id','corpus_source'],axis=1)\n",
    "df_drop['text_len'] = df_drop['text'].apply(len)"
   ]
  },
  {
   "cell_type": "code",
   "execution_count": 92,
   "metadata": {},
   "outputs": [],
   "source": [
    "# \\n과 \\\\n을 제거 .\n",
    "df_drop['text'] = df_drop['text'].str.replace(r'\\\\n|\\n', '', regex=True)"
   ]
  },
  {
   "cell_type": "code",
   "execution_count": 93,
   "metadata": {},
   "outputs": [
    {
     "name": "stdout",
     "output_type": "stream",
     "text": [
      "average_korean_ratio :  0.9347557296843726\n"
     ]
    }
   ],
   "source": [
    "# 한국어 + 숫자 + 특수기호\n",
    "def korean_ratio(text):\n",
    "    korean_number_special_count = len(re.findall(r\"[가-힣0-9,\\.\\/'\\\"#\\(\\)\\!\\^\\*\\@\\+\\`\\_\\-\\~\\$\\%\\&\\=\\:\\;\\?\\>\\< ]\", text))\n",
    "    total_count = len(text)\n",
    "    return korean_number_special_count / total_count\n",
    "\n",
    "df_drop['korean_ratio'] = df_drop['text'].apply(korean_ratio)\n",
    "average_korean_ratio = df_drop['korean_ratio'].mean()\n",
    "print('average_korean_ratio : ',average_korean_ratio)"
   ]
  },
  {
   "cell_type": "code",
   "execution_count": 94,
   "metadata": {},
   "outputs": [
    {
     "data": {
      "text/plain": [
       "count    56737.000000\n",
       "mean         0.934756\n",
       "std          0.097744\n",
       "min          0.000955\n",
       "25%          0.917431\n",
       "50%          0.968992\n",
       "75%          0.992748\n",
       "max          1.000000\n",
       "Name: korean_ratio, dtype: float64"
      ]
     },
     "execution_count": 94,
     "metadata": {},
     "output_type": "execute_result"
    }
   ],
   "source": [
    "df_drop['korean_ratio'].describe()"
   ]
  },
  {
   "cell_type": "code",
   "execution_count": 95,
   "metadata": {},
   "outputs": [],
   "source": [
    "# only 한국어\n",
    "\n",
    "# def korean_ratio(text):\n",
    "#     korean_number_special_count = len(re.findall(r\"[가-힣]\", text))\n",
    "#     total_count = len(text)\n",
    "#     return korean_number_special_count / total_count\n",
    "\n",
    "# df_drop['korean_ratio'] = df_drop['text'].apply(korean_ratio)\n",
    "# average_korean_ratio = df_drop['korean_ratio'].mean()\n",
    "# print('average_korean_ratio : ',average_korean_ratio)\n",
    "\n",
    "#print(df_drop['korean_ratio'].describe())"
   ]
  },
  {
   "cell_type": "code",
   "execution_count": 96,
   "metadata": {},
   "outputs": [],
   "source": [
    "#특수문자 기호\n",
    "\n",
    "# def korean_ratio(text):\n",
    "#     pattern2 = r\"[\\.\\/'\\n\\\"#\\(\\)\\!\\^\\*\\@\\+\\`\\_\\-\\~\\$\\%\\&\\=\\:\\;\\?\\>\\< ]\"\n",
    "#     korean_number_special_count = len(re.findall(pattern2, text))\n",
    "#     total_count = len(text)\n",
    "#     return korean_number_special_count / total_count\n",
    "\n",
    "# df_drop['korean_ratio'] = df_drop['text'].apply(korean_ratio)\n",
    "\n",
    "# average_korean_ratio = df_drop['korean_ratio'].mean()\n",
    "# print('average_korean_ratio : ',average_korean_ratio)\n",
    "\n",
    "# print(df_drop['korean_ratio'].describe())"
   ]
  },
  {
   "cell_type": "code",
   "execution_count": 97,
   "metadata": {},
   "outputs": [],
   "source": [
    "korean_ratio_prepro = df_drop[df_drop['korean_ratio'] > 0.40]\n",
    "\n",
    "korean_ratio_prepro.to_csv('korean_ratio_0.40_up.csv', index=False, encoding='utf-8')"
   ]
  },
  {
   "cell_type": "code",
   "execution_count": 98,
   "metadata": {},
   "outputs": [],
   "source": [
    "# #train 데이터셋 정답답과 비교 \n",
    "\n",
    "# from datasets import load_from_disk\n",
    "# dataset = load_from_disk(\"../data/train_dataset/\")\n",
    "\n",
    "# # 'train' 데이터셋에서 context를 시리즈로 가져오기\n",
    "# contexts = dataset['train']['context']\n",
    "\n",
    "# # korean_ratio가 0.5보다 작은 텍스트를 가져오기\n",
    "# korean_ratio_texts = df_drop[df_drop['korean_ratio'] < 0.5]['text']\n",
    "# #korean_ratio_texts = df_drop['text']\n",
    "# # 두 시리즈 간의 교집합 찾기\n",
    "# matching_texts = set(contexts).intersection(set(korean_ratio_texts))\n",
    "\n",
    "# # 결과 출력\n",
    "# if len(matching_texts) > 0:\n",
    "#     print(f\"일치하는 텍스트가 {len(matching_texts)}개 있습니다.\")\n",
    "# else:\n",
    "#     print(\"일치하는 텍스트가 없습니다.\")\n"
   ]
  }
 ],
 "metadata": {
  "kernelspec": {
   "display_name": "gs",
   "language": "python",
   "name": "gs_jupyter"
  },
  "language_info": {
   "codemirror_mode": {
    "name": "ipython",
    "version": 3
   },
   "file_extension": ".py",
   "mimetype": "text/x-python",
   "name": "python",
   "nbconvert_exporter": "python",
   "pygments_lexer": "ipython3",
   "version": "3.10.13"
  }
 },
 "nbformat": 4,
 "nbformat_minor": 2
}

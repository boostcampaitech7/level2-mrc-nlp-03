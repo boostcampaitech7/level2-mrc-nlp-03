{
 "cells": [
  {
   "cell_type": "code",
   "execution_count": 62,
   "metadata": {},
   "outputs": [],
   "source": [
    "import json \n",
    "import pandas as pd\n",
    "import matplotlib.pyplot as plt\n",
    "import re"
   ]
  },
  {
   "cell_type": "code",
   "execution_count": 2,
   "metadata": {},
   "outputs": [],
   "source": [
    "#데이터 불러오기\n",
    "with open(\"../data/wikipedia_documents.json\") as json_file:\n",
    "    json_data = json.load(json_file)\n",
    "    \n",
    "df_wiki = pd.DataFrame(json_data)\n",
    "df = df_wiki.transpose()"
   ]
  },
  {
   "cell_type": "code",
   "execution_count": 5,
   "metadata": {},
   "outputs": [
    {
     "name": "stdout",
     "output_type": "stream",
     "text": [
      "url: ['TODO' None]\n",
      "domain: [None]\n",
      "title_len: 31755\n",
      "author: [None]\n",
      "html: [None]\n"
     ]
    }
   ],
   "source": [
    "print('url:',df['url'].unique())\n",
    "print('domain:',df['domain'].unique())\n",
    "print('title_len:',len(df['title'].unique()))\n",
    "print('author:',df['author'].unique())\n",
    "print('html:',df['html'].unique())"
   ]
  },
  {
   "cell_type": "code",
   "execution_count": 6,
   "metadata": {},
   "outputs": [
    {
     "name": "stdout",
     "output_type": "stream",
     "text": [
      "7677\n"
     ]
    }
   ],
   "source": [
    "#겹치는 데이터 개수 \n",
    "all_duplicates = df[df.duplicated(subset=['text'], keep=False)]\n",
    "print(len(all_duplicates))"
   ]
  },
  {
   "cell_type": "code",
   "execution_count": 9,
   "metadata": {},
   "outputs": [
    {
     "name": "stdout",
     "output_type": "stream",
     "text": [
      "<class 'pandas.core.frame.DataFrame'>\n",
      "Index: 60613 entries, 0 to 60612\n",
      "Data columns (total 2 columns):\n",
      " #   Column  Non-Null Count  Dtype \n",
      "---  ------  --------------  ----- \n",
      " 0   text    60613 non-null  object\n",
      " 1   title   60613 non-null  object\n",
      "dtypes: object(2)\n",
      "memory usage: 3.4+ MB\n"
     ]
    }
   ],
   "source": [
    "df_drop = df.drop(['domain','author','html','url','document_id','corpus_source'],axis=1)\n",
    "df_drop.info()"
   ]
  },
  {
   "cell_type": "code",
   "execution_count": 10,
   "metadata": {},
   "outputs": [
    {
     "data": {
      "text/plain": [
       "text     0\n",
       "title    0\n",
       "dtype: int64"
      ]
     },
     "execution_count": 10,
     "metadata": {},
     "output_type": "execute_result"
    }
   ],
   "source": [
    "# url도 빼도 되지 않을까 ? -> 적용 0\n",
    "null_cnt = df_drop.isnull().sum()\n",
    "null_cnt "
   ]
  },
  {
   "cell_type": "code",
   "execution_count": 14,
   "metadata": {},
   "outputs": [],
   "source": [
    "# 텍스트 길이를 계산하여 새로운 열로 추가 (apply() 사용)\n",
    "df_drop['text_len'] = df_drop['text'].apply(len)"
   ]
  },
  {
   "cell_type": "code",
   "execution_count": 59,
   "metadata": {},
   "outputs": [
    {
     "data": {
      "text/plain": [
       "count    60613.00\n",
       "mean       755.57\n",
       "std        762.96\n",
       "min        184.00\n",
       "25%        414.00\n",
       "50%        577.00\n",
       "75%        857.00\n",
       "max      46099.00\n",
       "Name: text_len, dtype: float64"
      ]
     },
     "execution_count": 59,
     "metadata": {},
     "output_type": "execute_result"
    }
   ],
   "source": [
    "df_drop['text_len'].describe(percentiles=[.25, .5, .75]).round(2)"
   ]
  },
  {
   "cell_type": "code",
   "execution_count": 60,
   "metadata": {},
   "outputs": [
    {
     "data": {
      "text/plain": [
       "<seaborn.axisgrid.FacetGrid at 0x7fcabfb70790>"
      ]
     },
     "execution_count": 60,
     "metadata": {},
     "output_type": "execute_result"
    },
    {
     "data": {
      "image/png": "[encoded data removed]",
      "text/plain": [
       "<Figure size 500x500 with 1 Axes>"
      ]
     },
     "metadata": {},
     "output_type": "display_data"
    }
   ],
   "source": [
    "import seaborn as sns\n",
    "sns.displot(data=df_drop, x='text_len')"
   ]
  },
  {
   "cell_type": "code",
   "execution_count": 70,
   "metadata": {},
   "outputs": [
    {
     "name": "stdout",
     "output_type": "stream",
     "text": [
      "average_korean_ratio :  0.9342801569051211\n",
      "count    60613.000000\n",
      "mean         0.934280\n",
      "std          0.095816\n",
      "min          0.019681\n",
      "25%          0.918121\n",
      "50%          0.967164\n",
      "75%          0.990220\n",
      "max          1.000000\n",
      "Name: korean_ratio, dtype: float64\n"
     ]
    }
   ],
   "source": [
    "# 한국어 + 숫자 + 특수기호\n",
    "def korean_ratio(text):\n",
    "    korean_number_special_count = len(re.findall(r\"[가-힣0-9,\\.\\/'\\n\\\"#\\(\\)\\!\\^\\*\\@\\+\\`\\_\\-\\~\\$\\%\\&\\=\\:\\;\\?\\>\\< ]\", text))\n",
    "    total_count = len(text)\n",
    "    return korean_number_special_count / total_count\n",
    "\n",
    "df_drop['korean_ratio'] = df_drop['text'].apply(korean_ratio)\n",
    "average_korean_ratio = df_drop['korean_ratio'].mean()\n",
    "print('average_korean_ratio : ',average_korean_ratio)"
   ]
  },
  {
   "cell_type": "code",
   "execution_count": 46,
   "metadata": {},
   "outputs": [
    {
     "data": {
      "text/plain": [
       "count    60613.000000\n",
       "mean         0.934280\n",
       "std          0.095816\n",
       "min          0.019681\n",
       "25%          0.918121\n",
       "50%          0.967164\n",
       "75%          0.990220\n",
       "max          1.000000\n",
       "Name: korean_ratio, dtype: float64"
      ]
     },
     "execution_count": 46,
     "metadata": {},
     "output_type": "execute_result"
    }
   ],
   "source": [
    "df_drop['korean_ratio'].describe()"
   ]
  },
  {
   "cell_type": "code",
   "execution_count": 26,
   "metadata": {},
   "outputs": [
    {
     "name": "stdout",
     "output_type": "stream",
     "text": [
      "average_korean_ratio :  0.6280879271430576\n"
     ]
    }
   ],
   "source": [
    "# only 한국어\n",
    "\n",
    "# def korean_ratio(text):\n",
    "#     korean_number_special_count = len(re.findall(r\"[가-힣]\", text))\n",
    "#     total_count = len(text)\n",
    "#     return korean_number_special_count / total_count\n",
    "\n",
    "# df_drop['korean_ratio'] = df_drop['text'].apply(korean_ratio)\n",
    "# average_korean_ratio = df_drop['korean_ratio'].mean()\n",
    "# print('average_korean_ratio : ',average_korean_ratio)\n",
    "\n",
    "#print(df_drop['korean_ratio'].describe())"
   ]
  },
  {
   "cell_type": "code",
   "execution_count": 30,
   "metadata": {},
   "outputs": [
    {
     "name": "stdout",
     "output_type": "stream",
     "text": [
      "average_korean_ratio :  0.25354099488696563\n"
     ]
    }
   ],
   "source": [
    "#특수문자 기호\n",
    "\n",
    "# def korean_ratio(text):\n",
    "#     pattern2 = r\"[\\.\\/'\\n\\\"#\\(\\)\\!\\^\\*\\@\\+\\`\\_\\-\\~\\$\\%\\&\\=\\:\\;\\?\\>\\< ]\"\n",
    "#     korean_number_special_count = len(re.findall(pattern2, text))\n",
    "#     total_count = len(text)\n",
    "#     return korean_number_special_count / total_count\n",
    "\n",
    "# df_drop['korean_ratio'] = df_drop['text'].apply(korean_ratio)\n",
    "\n",
    "# average_korean_ratio = df_drop['korean_ratio'].mean()\n",
    "# print('average_korean_ratio : ',average_korean_ratio)\n",
    "\n",
    "# print(df_drop['korean_ratio'].describe())"
   ]
  },
  {
   "cell_type": "code",
   "execution_count": 58,
   "metadata": {},
   "outputs": [],
   "source": [
    "korean_ratio = df_drop[df_drop['korean_ratio'] < 0.5]\n",
    "\n",
    "# 데이터프레임을 CSV 파일로 저장\n",
    "korean_ratio.to_csv('korean_ratio_0.5_down.csv', index=False, encoding='utf-8')"
   ]
  },
  {
   "cell_type": "code",
   "execution_count": 68,
   "metadata": {},
   "outputs": [
    {
     "name": "stdout",
     "output_type": "stream",
     "text": [
      "일치하는 텍스트가 없습니다.\n"
     ]
    }
   ],
   "source": [
    "#train 데이터셋 정답답과 비교 \n",
    "\n",
    "from datasets import load_from_disk\n",
    "dataset = load_from_disk(\"../data/train_dataset/\")\n",
    "\n",
    "# 'train' 데이터셋에서 context를 시리즈로 가져오기\n",
    "contexts = dataset['train']['context']\n",
    "\n",
    "# korean_ratio가 0.5보다 작은 텍스트를 가져오기\n",
    "korean_ratio_texts = df_drop[df_drop['korean_ratio'] < 0.5]['text']\n",
    "#korean_ratio_texts = df_drop['text']\n",
    "# 두 시리즈 간의 교집합 찾기\n",
    "matching_texts = set(contexts).intersection(set(korean_ratio_texts))\n",
    "\n",
    "# 결과 출력\n",
    "if len(matching_texts) > 0:\n",
    "    print(f\"일치하는 텍스트가 {len(matching_texts)}개 있습니다.\")\n",
    "else:\n",
    "    print(\"일치하는 텍스트가 없습니다.\")\n"
   ]
  },
  {
   "cell_type": "code",
   "execution_count": null,
   "metadata": {},
   "outputs": [],
   "source": []
  }
 ],
 "metadata": {
  "kernelspec": {
   "display_name": "gs",
   "language": "python",
   "name": "gs_jupyter"
  },
  "language_info": {
   "codemirror_mode": {
    "name": "ipython",
    "version": 3
   },
   "file_extension": ".py",
   "mimetype": "text/x-python",
   "name": "python",
   "nbconvert_exporter": "python",
   "pygments_lexer": "ipython3",
   "version": "3.10.13"
  }
 },
 "nbformat": 4,
 "nbformat_minor": 2
}
